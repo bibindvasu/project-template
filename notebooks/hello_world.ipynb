{
 "cells": [
  {
   "cell_type": "code",
   "execution_count": 1,
   "metadata": {},
   "outputs": [],
   "source": [
    "# temporary while code remains on branch\n",
    "!pip install git+https://github.com/andersy005/intake-esm.git@refactor -q"
   ]
  },
  {
   "cell_type": "markdown",
   "metadata": {},
   "source": [
    "# Hello World!\n",
    "\n",
    "Here's an example notebook with some documentation on how to access CMIP data."
   ]
  },
  {
   "cell_type": "code",
   "execution_count": 2,
   "metadata": {},
   "outputs": [],
   "source": [
    "%matplotlib inline\n",
    "\n",
    "import xarray as xr\n",
    "import intake\n",
    "\n",
    "import util"
   ]
  },
  {
   "cell_type": "code",
   "execution_count": 3,
   "metadata": {},
   "outputs": [
    {
     "name": "stdout",
     "output_type": "stream",
     "text": [
      "hello world!\n"
     ]
    }
   ],
   "source": [
    "print('hello world!')"
   ]
  },
  {
   "cell_type": "markdown",
   "metadata": {},
   "source": [
    "## Demonstrate how spin-up a dask cluster\n",
    "Syntax is different if on an NCAR machine versus the cloud."
   ]
  },
  {
   "cell_type": "code",
   "execution_count": 4,
   "metadata": {},
   "outputs": [
    {
     "data": {
      "application/vnd.jupyter.widget-view+json": {
       "model_id": "bf291cd0e7dc4f2fafdec5fc99efee1b",
       "version_major": 2,
       "version_minor": 0
      },
      "text/plain": [
       "VBox(children=(HTML(value='<h2>NCARCluster</h2>'), HBox(children=(HTML(value='\\n<div>\\n  <style scoped>\\n    .…"
      ]
     },
     "metadata": {},
     "output_type": "display_data"
    }
   ],
   "source": [
    "if util.is_ncar_host():\n",
    "    from ncar_jobqueue import NCARCluster\n",
    "    cluster = NCARCluster()\n",
    "    cluster.adapt(minimum_jobs=1, maximum_jobs=40)\n",
    "# need cloud block\n",
    "cluster"
   ]
  },
  {
   "cell_type": "code",
   "execution_count": 5,
   "metadata": {},
   "outputs": [
    {
     "data": {
      "text/html": [
       "<table style=\"border: 2px solid white;\">\n",
       "<tr>\n",
       "<td style=\"vertical-align: top; border: 0px solid white\">\n",
       "<h3 style=\"text-align: left;\">Client</h3>\n",
       "<ul style=\"text-align: left; list-style: none; margin: 0; padding: 0;\">\n",
       "  <li><b>Scheduler: </b>tcp://128.117.181.208:45376</li>\n",
       "  <li><b>Dashboard: </b><a href='http://128.117.181.208/proxy/8787/status' target='_blank'>http://128.117.181.208/proxy/8787/status</a>\n",
       "</ul>\n",
       "</td>\n",
       "<td style=\"vertical-align: top; border: 0px solid white\">\n",
       "<h3 style=\"text-align: left;\">Cluster</h3>\n",
       "<ul style=\"text-align: left; list-style:none; margin: 0; padding: 0;\">\n",
       "  <li><b>Workers: </b>0</li>\n",
       "  <li><b>Cores: </b>0</li>\n",
       "  <li><b>Memory: </b>0 B</li>\n",
       "</ul>\n",
       "</td>\n",
       "</tr>\n",
       "</table>"
      ],
      "text/plain": [
       "<Client: 'tcp://128.117.181.208:45376' processes=0 threads=0, memory=0 B>"
      ]
     },
     "execution_count": 5,
     "metadata": {},
     "output_type": "execute_result"
    }
   ],
   "source": [
    "from dask.distributed import Client\n",
    "client = Client(cluster) # Connect this local process to remote workers\n",
    "client"
   ]
  },
  {
   "cell_type": "markdown",
   "metadata": {},
   "source": [
    "## Demonstrate how to use `intake-esm`\n",
    "[Intake-esm](https://intake-esm.readthedocs.io) is a data cataloging utility that facilitates access to CMIP data. It's pretty awesome.\n",
    "\n",
    "An `intake-esm` collection object establishes a link to a database that contains file locations and associated metadata (i.e., which experiement, model, the come from). \n",
    "\n",
    "### Opening a collection\n",
    "First step is to open the collection by pointing the collection definition file, which is a JSON file that conforms to the [ESM Collection Specification](https://github.com/NCAR/esm-collection-spec). "
   ]
  },
  {
   "cell_type": "code",
   "execution_count": 19,
   "metadata": {},
   "outputs": [
    {
     "data": {
      "text/plain": [
       "ESM Collection with 608513 entries:\n",
       "\t> 9 activity_id(s)\n",
       "\n",
       "\t> 21 institution_id(s)\n",
       "\n",
       "\t> 38 source_id(s)\n",
       "\n",
       "\t> 55 experiment_id(s)\n",
       "\n",
       "\t> 161 member_id(s)\n",
       "\n",
       "\t> 34 table_id(s)\n",
       "\n",
       "\t> 1022 variable_id(s)\n",
       "\n",
       "\t> 11 grid_label(s)\n",
       "\n",
       "\t> 225 version(s)\n",
       "\n",
       "\t> 4128 time_range(s)\n",
       "\n",
       "\t> 608513 path(s)"
      ]
     },
     "execution_count": 19,
     "metadata": {},
     "output_type": "execute_result"
    }
   ],
   "source": [
    "if util.is_ncar_host():\n",
    "    col = intake.open_esm_metadatastore(\"../catalogs/glade-cmip6.json\")\n",
    "else:\n",
    "    col = intake.open_esm_metadatastore(\"../catalogs/pangeo-cmip6.json\")\n",
    "col"
   ]
  },
  {
   "cell_type": "markdown",
   "metadata": {},
   "source": [
    "`intake-esm` is build on top of [pandas](https://pandas.pydata.org/pandas-docs/stable). It is possible to view the `pandas.DataFrame` as follows."
   ]
  },
  {
   "cell_type": "code",
   "execution_count": 20,
   "metadata": {},
   "outputs": [
    {
     "data": {
      "text/html": [
       "<div>\n",
       "<style scoped>\n",
       "    .dataframe tbody tr th:only-of-type {\n",
       "        vertical-align: middle;\n",
       "    }\n",
       "\n",
       "    .dataframe tbody tr th {\n",
       "        vertical-align: top;\n",
       "    }\n",
       "\n",
       "    .dataframe thead th {\n",
       "        text-align: right;\n",
       "    }\n",
       "</style>\n",
       "<table border=\"1\" class=\"dataframe\">\n",
       "  <thead>\n",
       "    <tr style=\"text-align: right;\">\n",
       "      <th></th>\n",
       "      <th>activity_id</th>\n",
       "      <th>institution_id</th>\n",
       "      <th>source_id</th>\n",
       "      <th>experiment_id</th>\n",
       "      <th>member_id</th>\n",
       "      <th>table_id</th>\n",
       "      <th>variable_id</th>\n",
       "      <th>grid_label</th>\n",
       "      <th>version</th>\n",
       "      <th>time_range</th>\n",
       "      <th>path</th>\n",
       "    </tr>\n",
       "  </thead>\n",
       "  <tbody>\n",
       "    <tr>\n",
       "      <td>0</td>\n",
       "      <td>AerChemMIP</td>\n",
       "      <td>BCC</td>\n",
       "      <td>BCC-ESM1</td>\n",
       "      <td>ssp370</td>\n",
       "      <td>r2i1p1f1</td>\n",
       "      <td>Amon</td>\n",
       "      <td>hfls</td>\n",
       "      <td>gn</td>\n",
       "      <td>v20190624</td>\n",
       "      <td>201501-205512</td>\n",
       "      <td>/glade/collections/cmip/CMIP6/AerChemMIP/BCC/B...</td>\n",
       "    </tr>\n",
       "    <tr>\n",
       "      <td>1</td>\n",
       "      <td>AerChemMIP</td>\n",
       "      <td>BCC</td>\n",
       "      <td>BCC-ESM1</td>\n",
       "      <td>ssp370</td>\n",
       "      <td>r2i1p1f1</td>\n",
       "      <td>Amon</td>\n",
       "      <td>va</td>\n",
       "      <td>gn</td>\n",
       "      <td>v20190624</td>\n",
       "      <td>201501-205512</td>\n",
       "      <td>/glade/collections/cmip/CMIP6/AerChemMIP/BCC/B...</td>\n",
       "    </tr>\n",
       "    <tr>\n",
       "      <td>2</td>\n",
       "      <td>AerChemMIP</td>\n",
       "      <td>BCC</td>\n",
       "      <td>BCC-ESM1</td>\n",
       "      <td>ssp370</td>\n",
       "      <td>r2i1p1f1</td>\n",
       "      <td>Amon</td>\n",
       "      <td>tas</td>\n",
       "      <td>gn</td>\n",
       "      <td>v20190624</td>\n",
       "      <td>201501-205512</td>\n",
       "      <td>/glade/collections/cmip/CMIP6/AerChemMIP/BCC/B...</td>\n",
       "    </tr>\n",
       "    <tr>\n",
       "      <td>3</td>\n",
       "      <td>AerChemMIP</td>\n",
       "      <td>BCC</td>\n",
       "      <td>BCC-ESM1</td>\n",
       "      <td>ssp370</td>\n",
       "      <td>r2i1p1f1</td>\n",
       "      <td>Amon</td>\n",
       "      <td>rsds</td>\n",
       "      <td>gn</td>\n",
       "      <td>v20190624</td>\n",
       "      <td>201501-205512</td>\n",
       "      <td>/glade/collections/cmip/CMIP6/AerChemMIP/BCC/B...</td>\n",
       "    </tr>\n",
       "    <tr>\n",
       "      <td>4</td>\n",
       "      <td>AerChemMIP</td>\n",
       "      <td>BCC</td>\n",
       "      <td>BCC-ESM1</td>\n",
       "      <td>ssp370</td>\n",
       "      <td>r2i1p1f1</td>\n",
       "      <td>Amon</td>\n",
       "      <td>pr</td>\n",
       "      <td>gn</td>\n",
       "      <td>v20190624</td>\n",
       "      <td>201501-205512</td>\n",
       "      <td>/glade/collections/cmip/CMIP6/AerChemMIP/BCC/B...</td>\n",
       "    </tr>\n",
       "  </tbody>\n",
       "</table>\n",
       "</div>"
      ],
      "text/plain": [
       "  activity_id institution_id source_id experiment_id member_id table_id  \\\n",
       "0  AerChemMIP            BCC  BCC-ESM1        ssp370  r2i1p1f1     Amon   \n",
       "1  AerChemMIP            BCC  BCC-ESM1        ssp370  r2i1p1f1     Amon   \n",
       "2  AerChemMIP            BCC  BCC-ESM1        ssp370  r2i1p1f1     Amon   \n",
       "3  AerChemMIP            BCC  BCC-ESM1        ssp370  r2i1p1f1     Amon   \n",
       "4  AerChemMIP            BCC  BCC-ESM1        ssp370  r2i1p1f1     Amon   \n",
       "\n",
       "  variable_id grid_label    version     time_range  \\\n",
       "0        hfls         gn  v20190624  201501-205512   \n",
       "1          va         gn  v20190624  201501-205512   \n",
       "2         tas         gn  v20190624  201501-205512   \n",
       "3        rsds         gn  v20190624  201501-205512   \n",
       "4          pr         gn  v20190624  201501-205512   \n",
       "\n",
       "                                                path  \n",
       "0  /glade/collections/cmip/CMIP6/AerChemMIP/BCC/B...  \n",
       "1  /glade/collections/cmip/CMIP6/AerChemMIP/BCC/B...  \n",
       "2  /glade/collections/cmip/CMIP6/AerChemMIP/BCC/B...  \n",
       "3  /glade/collections/cmip/CMIP6/AerChemMIP/BCC/B...  \n",
       "4  /glade/collections/cmip/CMIP6/AerChemMIP/BCC/B...  "
      ]
     },
     "execution_count": 20,
     "metadata": {},
     "output_type": "execute_result"
    }
   ],
   "source": [
    "col.df.head()"
   ]
  },
  {
   "cell_type": "markdown",
   "metadata": {},
   "source": [
    "It is possible to interact with the `DataFrame`; for instance, we can see what the \"attributes\" of the datasets are by printing the columns."
   ]
  },
  {
   "cell_type": "code",
   "execution_count": 10,
   "metadata": {},
   "outputs": [
    {
     "data": {
      "text/plain": [
       "Index(['activity_id', 'institution_id', 'source_id', 'experiment_id',\n",
       "       'member_id', 'table_id', 'variable_id', 'grid_label', 'version',\n",
       "       'time_range', 'path'],\n",
       "      dtype='object')"
      ]
     },
     "execution_count": 10,
     "metadata": {},
     "output_type": "execute_result"
    }
   ],
   "source": [
    "col.df.columns"
   ]
  },
  {
   "cell_type": "markdown",
   "metadata": {},
   "source": [
    "### Search and discovery\n",
    "\n",
    "#### Finding unique entries\n",
    "Let's query the data to see what models (\"source_id\"), experiments (\"experiment_id\") and temporal frequencies (\"table_id\") are available."
   ]
  },
  {
   "cell_type": "code",
   "execution_count": 22,
   "metadata": {},
   "outputs": [
    {
     "name": "stdout",
     "output_type": "stream",
     "text": [
      "{'experiment_id': {'count': 55,\n",
      "                   'values': ['ssp370', 'histSST-piNTCF', 'histSST',\n",
      "                              'histSST-1950HC', 'hist-1950HC', 'hist-piNTCF',\n",
      "                              'piClim-NTCF', 'ssp370SST-lowNTCF',\n",
      "                              'ssp370-lowNTCF', 'ssp370SST', 'amip-future4K',\n",
      "                              'amip-m4K', 'a4SST', 'aqua-p4K', 'piSST',\n",
      "                              'amip-4xCO2', 'a4SSTice', 'amip-p4K',\n",
      "                              'aqua-control', 'aqua-4xCO2', 'abrupt-4xCO2',\n",
      "                              'historical', 'piControl', 'amip', '1pctCO2',\n",
      "                              'esm-hist', 'esm-piControl', 'ssp245', 'ssp585',\n",
      "                              'ssp126', 'highresSST-present',\n",
      "                              'land-hist-princeton', 'land-hist-cruNcep',\n",
      "                              'land-hist', 'deforest-globe',\n",
      "                              'esm-ssp585-ssp126Lu', 'land-cCO2', 'hist-noLu',\n",
      "                              'land-crop-noFert', 'ssp370-ssp126Lu',\n",
      "                              'ssp126-ssp370Lu', 'land-noLu', 'land-noFire',\n",
      "                              'land-hist-altStartYear', 'land-cClim', 'omip1',\n",
      "                              'pdSST-piAntSIC', 'pdSST-futAntSIC',\n",
      "                              'pdSST-pdSIC', 'pdSST-piArcSIC',\n",
      "                              'pdSST-futArcSIC', 'ssp119', 'ssp434', 'ssp460',\n",
      "                              'ssp534-over']},\n",
      " 'source_id': {'count': 38,\n",
      "               'values': ['BCC-ESM1', 'CESM2-WACCM', 'CESM2', 'CNRM-CM6-1',\n",
      "                          'CNRM-ESM2-1', 'BCC-CSM2-MR', 'FGOALS-f3-L',\n",
      "                          'FGOALS-g3', 'SAM0-UNICON', 'UKESM1-0-LL',\n",
      "                          'HadGEM3-GC31-LL', 'HadGEM3-GC31-MM', 'AWI-CM-1-1-MR',\n",
      "                          'GFDL-AM4', 'GFDL-ESM4', 'GFDL-CM4', 'GISS-E2-1-H',\n",
      "                          'GISS-E2-1-G', 'CanESM5', 'E3SM-1-0', 'CAMS-CSM1-0',\n",
      "                          'MCM-UA-1-0', 'EC-Earth3-LR', 'EC-Earth3',\n",
      "                          'EC-Earth3-Veg', 'MRI-ESM2-0', 'NESM3', 'MIROC-ES2L',\n",
      "                          'MIROC6', 'IPSL-CM6A-LR', 'NorCPM1', 'NorESM2-LM',\n",
      "                          'FIO-ESM-2-0', 'NICAM16-7S', 'NICAM16-8S',\n",
      "                          'NICAM16-9S', 'IPSL-CM6A-ATM-HR', 'MPI-ESM1-2-HR']},\n",
      " 'table_id': {'count': 34,\n",
      "              'values': ['Amon', 'AERmonZ', 'CFmon', 'day', 'EdayZ', 'Eday',\n",
      "                         'CFday', 'EmonZ', 'AERday', 'Emon', 'fx', 'Lmon',\n",
      "                         'AERmon', 'Ofx', 'Omon', 'SImon', 'Oyr', 'AERhr',\n",
      "                         'Eyr', 'LImon', 'SIday', '6hrPlev', 'CFsubhr',\n",
      "                         '6hrLev', 'Oday', 'ImonGre', 'ImonAnt', 'Efx',\n",
      "                         'IfxGre', '3hr', '6hrPlevPt', 'E1hr', 'E3hr',\n",
      "                         'CF3hr']}}\n"
     ]
    }
   ],
   "source": [
    "import pprint \n",
    "uni_dict = col.unique(['source_id', 'experiment_id', 'table_id'])\n",
    "pprint.pprint(uni_dict, compact=True)"
   ]
  },
  {
   "cell_type": "markdown",
   "metadata": {},
   "source": [
    "#### Searching for specific datasets\n",
    "\n",
    "Let's find all the dissovle oxygen data at annual frequency from the ocean for the `historical` and `ssp585` experiments."
   ]
  },
  {
   "cell_type": "code",
   "execution_count": 26,
   "metadata": {},
   "outputs": [
    {
     "data": {
      "text/html": [
       "<div>\n",
       "<style scoped>\n",
       "    .dataframe tbody tr th:only-of-type {\n",
       "        vertical-align: middle;\n",
       "    }\n",
       "\n",
       "    .dataframe tbody tr th {\n",
       "        vertical-align: top;\n",
       "    }\n",
       "\n",
       "    .dataframe thead th {\n",
       "        text-align: right;\n",
       "    }\n",
       "</style>\n",
       "<table border=\"1\" class=\"dataframe\">\n",
       "  <thead>\n",
       "    <tr style=\"text-align: right;\">\n",
       "      <th></th>\n",
       "      <th>activity_id</th>\n",
       "      <th>institution_id</th>\n",
       "      <th>source_id</th>\n",
       "      <th>experiment_id</th>\n",
       "      <th>member_id</th>\n",
       "      <th>table_id</th>\n",
       "      <th>variable_id</th>\n",
       "      <th>grid_label</th>\n",
       "      <th>version</th>\n",
       "      <th>time_range</th>\n",
       "      <th>path</th>\n",
       "    </tr>\n",
       "  </thead>\n",
       "  <tbody>\n",
       "    <tr>\n",
       "      <td>42864</td>\n",
       "      <td>CMIP</td>\n",
       "      <td>NCAR</td>\n",
       "      <td>CESM2-WACCM</td>\n",
       "      <td>historical</td>\n",
       "      <td>r2i1p1f1</td>\n",
       "      <td>Oyr</td>\n",
       "      <td>o2</td>\n",
       "      <td>gn</td>\n",
       "      <td>v20190917</td>\n",
       "      <td>1850-2014</td>\n",
       "      <td>/glade/collections/cmip/CMIP6/CMIP/NCAR/CESM2-...</td>\n",
       "    </tr>\n",
       "    <tr>\n",
       "      <td>42865</td>\n",
       "      <td>CMIP</td>\n",
       "      <td>NCAR</td>\n",
       "      <td>CESM2-WACCM</td>\n",
       "      <td>historical</td>\n",
       "      <td>r2i1p1f1</td>\n",
       "      <td>Oyr</td>\n",
       "      <td>o2</td>\n",
       "      <td>gr</td>\n",
       "      <td>v20190917</td>\n",
       "      <td>1850-2014</td>\n",
       "      <td>/glade/collections/cmip/CMIP6/CMIP/NCAR/CESM2-...</td>\n",
       "    </tr>\n",
       "    <tr>\n",
       "      <td>45458</td>\n",
       "      <td>CMIP</td>\n",
       "      <td>NCAR</td>\n",
       "      <td>CESM2-WACCM</td>\n",
       "      <td>historical</td>\n",
       "      <td>r1i1p1f1</td>\n",
       "      <td>Oyr</td>\n",
       "      <td>o2</td>\n",
       "      <td>gn</td>\n",
       "      <td>v20190917</td>\n",
       "      <td>1850-2014</td>\n",
       "      <td>/glade/collections/cmip/CMIP6/CMIP/NCAR/CESM2-...</td>\n",
       "    </tr>\n",
       "    <tr>\n",
       "      <td>45459</td>\n",
       "      <td>CMIP</td>\n",
       "      <td>NCAR</td>\n",
       "      <td>CESM2-WACCM</td>\n",
       "      <td>historical</td>\n",
       "      <td>r1i1p1f1</td>\n",
       "      <td>Oyr</td>\n",
       "      <td>o2</td>\n",
       "      <td>gr</td>\n",
       "      <td>v20190917</td>\n",
       "      <td>1850-2014</td>\n",
       "      <td>/glade/collections/cmip/CMIP6/CMIP/NCAR/CESM2-...</td>\n",
       "    </tr>\n",
       "    <tr>\n",
       "      <td>48052</td>\n",
       "      <td>CMIP</td>\n",
       "      <td>NCAR</td>\n",
       "      <td>CESM2-WACCM</td>\n",
       "      <td>historical</td>\n",
       "      <td>r3i1p1f1</td>\n",
       "      <td>Oyr</td>\n",
       "      <td>o2</td>\n",
       "      <td>gn</td>\n",
       "      <td>v20190917</td>\n",
       "      <td>1850-2014</td>\n",
       "      <td>/glade/collections/cmip/CMIP6/CMIP/NCAR/CESM2-...</td>\n",
       "    </tr>\n",
       "    <tr>\n",
       "      <td>...</td>\n",
       "      <td>...</td>\n",
       "      <td>...</td>\n",
       "      <td>...</td>\n",
       "      <td>...</td>\n",
       "      <td>...</td>\n",
       "      <td>...</td>\n",
       "      <td>...</td>\n",
       "      <td>...</td>\n",
       "      <td>...</td>\n",
       "      <td>...</td>\n",
       "      <td>...</td>\n",
       "    </tr>\n",
       "    <tr>\n",
       "      <td>578708</td>\n",
       "      <td>ScenarioMIP</td>\n",
       "      <td>DKRZ</td>\n",
       "      <td>MPI-ESM1-2-HR</td>\n",
       "      <td>ssp585</td>\n",
       "      <td>r1i1p1f1</td>\n",
       "      <td>Oyr</td>\n",
       "      <td>o2</td>\n",
       "      <td>gn</td>\n",
       "      <td>v20190710</td>\n",
       "      <td>2030-2034</td>\n",
       "      <td>/glade/collections/cmip/CMIP6/ScenarioMIP/DKRZ...</td>\n",
       "    </tr>\n",
       "    <tr>\n",
       "      <td>578709</td>\n",
       "      <td>ScenarioMIP</td>\n",
       "      <td>DKRZ</td>\n",
       "      <td>MPI-ESM1-2-HR</td>\n",
       "      <td>ssp585</td>\n",
       "      <td>r1i1p1f1</td>\n",
       "      <td>Oyr</td>\n",
       "      <td>o2</td>\n",
       "      <td>gn</td>\n",
       "      <td>v20190710</td>\n",
       "      <td>2085-2089</td>\n",
       "      <td>/glade/collections/cmip/CMIP6/ScenarioMIP/DKRZ...</td>\n",
       "    </tr>\n",
       "    <tr>\n",
       "      <td>578710</td>\n",
       "      <td>ScenarioMIP</td>\n",
       "      <td>DKRZ</td>\n",
       "      <td>MPI-ESM1-2-HR</td>\n",
       "      <td>ssp585</td>\n",
       "      <td>r1i1p1f1</td>\n",
       "      <td>Oyr</td>\n",
       "      <td>o2</td>\n",
       "      <td>gn</td>\n",
       "      <td>v20190710</td>\n",
       "      <td>2055-2059</td>\n",
       "      <td>/glade/collections/cmip/CMIP6/ScenarioMIP/DKRZ...</td>\n",
       "    </tr>\n",
       "    <tr>\n",
       "      <td>607737</td>\n",
       "      <td>ScenarioMIP</td>\n",
       "      <td>MIROC</td>\n",
       "      <td>MIROC-ES2L</td>\n",
       "      <td>ssp585</td>\n",
       "      <td>r1i1p1f2</td>\n",
       "      <td>Oyr</td>\n",
       "      <td>o2</td>\n",
       "      <td>gn</td>\n",
       "      <td>v20190823</td>\n",
       "      <td>2015-2100</td>\n",
       "      <td>/glade/collections/cmip/CMIP6/ScenarioMIP/MIRO...</td>\n",
       "    </tr>\n",
       "    <tr>\n",
       "      <td>608339</td>\n",
       "      <td>ScenarioMIP</td>\n",
       "      <td>IPSL</td>\n",
       "      <td>IPSL-CM6A-LR</td>\n",
       "      <td>ssp585</td>\n",
       "      <td>r1i1p1f1</td>\n",
       "      <td>Oyr</td>\n",
       "      <td>o2</td>\n",
       "      <td>gn</td>\n",
       "      <td>v20190119</td>\n",
       "      <td>2015-2100</td>\n",
       "      <td>/glade/collections/cmip/CMIP6/ScenarioMIP/IPSL...</td>\n",
       "    </tr>\n",
       "  </tbody>\n",
       "</table>\n",
       "<p>144 rows × 11 columns</p>\n",
       "</div>"
      ],
      "text/plain": [
       "        activity_id institution_id      source_id experiment_id member_id  \\\n",
       "42864          CMIP           NCAR    CESM2-WACCM    historical  r2i1p1f1   \n",
       "42865          CMIP           NCAR    CESM2-WACCM    historical  r2i1p1f1   \n",
       "45458          CMIP           NCAR    CESM2-WACCM    historical  r1i1p1f1   \n",
       "45459          CMIP           NCAR    CESM2-WACCM    historical  r1i1p1f1   \n",
       "48052          CMIP           NCAR    CESM2-WACCM    historical  r3i1p1f1   \n",
       "...             ...            ...            ...           ...       ...   \n",
       "578708  ScenarioMIP           DKRZ  MPI-ESM1-2-HR        ssp585  r1i1p1f1   \n",
       "578709  ScenarioMIP           DKRZ  MPI-ESM1-2-HR        ssp585  r1i1p1f1   \n",
       "578710  ScenarioMIP           DKRZ  MPI-ESM1-2-HR        ssp585  r1i1p1f1   \n",
       "607737  ScenarioMIP          MIROC     MIROC-ES2L        ssp585  r1i1p1f2   \n",
       "608339  ScenarioMIP           IPSL   IPSL-CM6A-LR        ssp585  r1i1p1f1   \n",
       "\n",
       "       table_id variable_id grid_label    version time_range  \\\n",
       "42864       Oyr          o2         gn  v20190917  1850-2014   \n",
       "42865       Oyr          o2         gr  v20190917  1850-2014   \n",
       "45458       Oyr          o2         gn  v20190917  1850-2014   \n",
       "45459       Oyr          o2         gr  v20190917  1850-2014   \n",
       "48052       Oyr          o2         gn  v20190917  1850-2014   \n",
       "...         ...         ...        ...        ...        ...   \n",
       "578708      Oyr          o2         gn  v20190710  2030-2034   \n",
       "578709      Oyr          o2         gn  v20190710  2085-2089   \n",
       "578710      Oyr          o2         gn  v20190710  2055-2059   \n",
       "607737      Oyr          o2         gn  v20190823  2015-2100   \n",
       "608339      Oyr          o2         gn  v20190119  2015-2100   \n",
       "\n",
       "                                                     path  \n",
       "42864   /glade/collections/cmip/CMIP6/CMIP/NCAR/CESM2-...  \n",
       "42865   /glade/collections/cmip/CMIP6/CMIP/NCAR/CESM2-...  \n",
       "45458   /glade/collections/cmip/CMIP6/CMIP/NCAR/CESM2-...  \n",
       "45459   /glade/collections/cmip/CMIP6/CMIP/NCAR/CESM2-...  \n",
       "48052   /glade/collections/cmip/CMIP6/CMIP/NCAR/CESM2-...  \n",
       "...                                                   ...  \n",
       "578708  /glade/collections/cmip/CMIP6/ScenarioMIP/DKRZ...  \n",
       "578709  /glade/collections/cmip/CMIP6/ScenarioMIP/DKRZ...  \n",
       "578710  /glade/collections/cmip/CMIP6/ScenarioMIP/DKRZ...  \n",
       "607737  /glade/collections/cmip/CMIP6/ScenarioMIP/MIRO...  \n",
       "608339  /glade/collections/cmip/CMIP6/ScenarioMIP/IPSL...  \n",
       "\n",
       "[144 rows x 11 columns]"
      ]
     },
     "execution_count": 26,
     "metadata": {},
     "output_type": "execute_result"
    }
   ],
   "source": [
    "cat = col.search(experiment_id=['historical', 'ssp585'], table_id='Oyr', variable_id='o2')\n",
    "cat.df"
   ]
  },
  {
   "cell_type": "markdown",
   "metadata": {},
   "source": [
    "### Loading data\n",
    "\n",
    "The best part about `intake-esm` is that it enables loading data directly into an [xarray.Dataset](http://xarray.pydata.org/en/stable/api.html#dataset).\n",
    "\n",
    "Note that data on the cloud are in \n",
    "[zarr](https://zarr.readthedocs.io/en/stable/) and data on \n",
    "[glade](https://www2.cisl.ucar.edu/resources/storage-and-file-systems/glade-file-spaces) are stored as \n",
    "[netCDF](https://www.unidata.ucar.edu/software/netcdf/) files. This is opaque to the user!\n",
    "\n",
    "`intake-esm` has rules for aggegating datasets; these rules are defined in the collection-specification file."
   ]
  },
  {
   "cell_type": "code",
   "execution_count": null,
   "metadata": {},
   "outputs": [],
   "source": [
    "dset_dict = cat.to_dataset_dict(zarr_kwargs={'consolidated': True, 'decode_times': False}, \n",
    "                                cdf_kwargs={'decode_times': False})\n",
    "dset_dict"
   ]
  },
  {
   "cell_type": "code",
   "execution_count": null,
   "metadata": {},
   "outputs": [],
   "source": []
  }
 ],
 "metadata": {
  "kernelspec": {
   "display_name": "Python [conda env:miniconda3-analysis]",
   "language": "python",
   "name": "conda-env-miniconda3-analysis-py"
  },
  "language_info": {
   "codemirror_mode": {
    "name": "ipython",
    "version": 3
   },
   "file_extension": ".py",
   "mimetype": "text/x-python",
   "name": "python",
   "nbconvert_exporter": "python",
   "pygments_lexer": "ipython3",
   "version": "3.7.3"
  }
 },
 "nbformat": 4,
 "nbformat_minor": 4
}
